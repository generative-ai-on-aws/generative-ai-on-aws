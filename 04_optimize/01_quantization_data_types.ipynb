{
 "cells": [
  {
   "cell_type": "code",
   "execution_count": null,
   "id": "b1c29809-ee50-407b-b932-d03fbba2644e",
   "metadata": {},
   "outputs": [],
   "source": [
    "%pip install -U torch==2.0.1"
   ]
  },
  {
   "cell_type": "markdown",
   "id": "f7aa5709-d18e-4fa5-b4a7-442aa7e88e19",
   "metadata": {},
   "source": [
    "https://pytorch.org/docs/stable/tensors.html"
   ]
  },
  {
   "cell_type": "code",
   "execution_count": null,
   "id": "c0de5ce4-18a0-44bb-89dc-7ec50f0d9c77",
   "metadata": {},
   "outputs": [],
   "source": [
    "import torch"
   ]
  },
  {
   "cell_type": "markdown",
   "id": "bed35346-aade-4e22-a0ca-84055663c364",
   "metadata": {
    "tags": []
   },
   "source": [
    "# 실수값을 FP32, FP16, BFLOAT16, INT8로 변환하는 함수"
   ]
  },
  {
   "cell_type": "markdown",
   "id": "d79941f5-60cf-4341-b53d-86a2aa93b809",
   "metadata": {},
   "source": [
    "### 메모리 사용량 표시"
   ]
  },
  {
   "cell_type": "code",
   "execution_count": null,
   "id": "3817d47f-b158-49b4-9207-9669c6133083",
   "metadata": {},
   "outputs": [],
   "source": [
    "def show_memory_comsumption(tensor):\n",
    "    memory_bytes = tensor.element_size() * tensor.numel()\n",
    "    print(\"Tensor memory consumption:\", memory_bytes, \"bytes\")"
   ]
  },
  {
   "cell_type": "markdown",
   "id": "5608fd78-8c9f-4ce0-b3a4-6991f74680f8",
   "metadata": {},
   "source": [
    "### 이진 텐서 값 표시"
   ]
  },
  {
   "cell_type": "code",
   "execution_count": null,
   "id": "b81bab4f-b07a-4296-b19d-c075f0a9d806",
   "metadata": {},
   "outputs": [],
   "source": [
    "def show_binary_tensor_values(tensor):\n",
    "    \n",
    "    if tensor.dtype==torch.float32:\n",
    "        # 기준 데이터에 32비트 정수로 접근\n",
    "        bits = tensor.view(torch.int32).item()\n",
    "        binary_repr = bin(bits)\n",
    "        print(\"Binary: \", binary_repr)      \n",
    "        print(\"Binary representation: \", format(bits, '031b'))\n",
    "\n",
    "    elif tensor.dtype==torch.float16:\n",
    "        bits = tensor.view(torch.int16).item()\n",
    "        binary_repr = bin(bits)\n",
    "        print(\"Binary: \", binary_repr) \n",
    "        print(\"Binary representation: \", format(bits, '015b'))\n",
    "\n",
    "    \n",
    "    elif tensor.dtype==torch.bfloat16:\n",
    "        bits = tensor.view(torch.int16).item()\n",
    "        binary_repr = bin(bits)\n",
    "        print(\"Binary: \", binary_repr) \n",
    "        print(\"Binary representation: \", format(bits, '015b'))\n",
    "\n",
    "\n",
    "    elif tensor.dtype==torch.int8:\n",
    "        bits = tensor.view(torch.int8).item()\n",
    "        binary_repr = bin(bits)\n",
    "        print(\"Binary: \", binary_repr) \n",
    "        print(\"Binary representation: \", format(bits, '07b'))\n"
   ]
  },
  {
   "cell_type": "markdown",
   "id": "9afdb8e5-d7fe-47aa-b568-eb9be0b94818",
   "metadata": {},
   "source": [
    "### dtype 변환"
   ]
  },
  {
   "cell_type": "code",
   "execution_count": null,
   "id": "17cae21d-466b-40fa-83f9-08a0f20f59f5",
   "metadata": {},
   "outputs": [],
   "source": [
    "def convert_to_fp32(value):\n",
    "    tensor = torch.tensor(value)\n",
    "    float32_tensor = tensor.float()\n",
    "    print(float32_tensor.dtype)\n",
    "    show_memory_comsumption(float32_tensor)\n",
    "    show_binary_tensor_values(float32_tensor)\n",
    "    return float32_tensor\n",
    "\n",
    "def convert_to_fp16(value):\n",
    "    tensor = torch.tensor(value)\n",
    "    float16_tensor = tensor.half()\n",
    "    show_memory_comsumption(float16_tensor)\n",
    "    show_binary_tensor_values(float16_tensor)\n",
    "    return float16_tensor\n",
    "\n",
    "def convert_to_bfloat16(value):\n",
    "    tensor = torch.tensor(value)\n",
    "    bfloat16_tensor = tensor.bfloat16()\n",
    "    show_memory_comsumption(bfloat16_tensor)\n",
    "    show_binary_tensor_values(bfloat16_tensor)\n",
    "    return bfloat16_tensor\n",
    "\n",
    "def convert_to_int8(value):\n",
    "    tensor = torch.tensor(value)\n",
    "    int8_tensor = tensor.to(torch.int8)\n",
    "    show_memory_comsumption(int8_tensor)\n",
    "    show_binary_tensor_values(int8_tensor)\n",
    "    return int8_tensor"
   ]
  },
  {
   "cell_type": "markdown",
   "id": "e1205524-968f-412c-aee3-4a31516c9083",
   "metadata": {},
   "source": [
    "# 실수값 설정"
   ]
  },
  {
   "cell_type": "code",
   "execution_count": null,
   "id": "bcaa69cf-ae31-46af-97f1-846801b58922",
   "metadata": {},
   "outputs": [],
   "source": [
    "#real_number = 3.141592653589793238\n",
    "#real_number = 3.1415926535\n",
    "#real_number = 3.141592\n",
    "real_number = 3.141592\n",
    "#real_number = 500.141592653589793238"
   ]
  },
  {
   "cell_type": "markdown",
   "id": "c3a999c0-ad63-4581-b9f0-881590acd4ce",
   "metadata": {
    "tags": []
   },
   "source": [
    "# 변환"
   ]
  },
  {
   "cell_type": "code",
   "execution_count": null,
   "id": "6ba14adc-ce4c-4c24-9a56-154eebda2ee3",
   "metadata": {},
   "outputs": [],
   "source": [
    "torch.set_printoptions(precision=64)"
   ]
  },
  {
   "cell_type": "markdown",
   "id": "26cc8711-6fb3-4a10-bd5b-1b5a8b6d3552",
   "metadata": {},
   "source": [
    "## FP32"
   ]
  },
  {
   "cell_type": "code",
   "execution_count": null,
   "id": "d78e32e5-0b5b-4e76-9b77-64f6dba665a5",
   "metadata": {},
   "outputs": [],
   "source": [
    "torch.finfo(torch.float32)"
   ]
  },
  {
   "cell_type": "code",
   "execution_count": null,
   "id": "1df2e2bf-92c7-4cfc-ae88-e1dc14fdb22a",
   "metadata": {},
   "outputs": [],
   "source": [
    "float64_test = torch.tensor(real_number, dtype=torch.float64)\n",
    "float32_test = torch.tensor(real_number, dtype=torch.float32)"
   ]
  },
  {
   "cell_type": "code",
   "execution_count": null,
   "id": "6ac756f5-1dc3-40ab-be25-7f51608fb8ef",
   "metadata": {},
   "outputs": [],
   "source": [
    "print(float64_test.item())\n",
    "print(float32_test.item())"
   ]
  },
  {
   "cell_type": "code",
   "execution_count": null,
   "id": "570d7ac6-5fe4-408f-91f7-01a0ff7ed928",
   "metadata": {},
   "outputs": [],
   "source": [
    "float64_test"
   ]
  },
  {
   "cell_type": "code",
   "execution_count": null,
   "id": "860c7522-1152-48e0-9288-a1830aef83ea",
   "metadata": {},
   "outputs": [],
   "source": [
    "float32_test"
   ]
  },
  {
   "cell_type": "code",
   "execution_count": null,
   "id": "c21d4ae4-6bd9-4e48-9241-36a379fe46d4",
   "metadata": {},
   "outputs": [],
   "source": [
    "# FP32로 변환\n",
    "fp32_number = convert_to_fp32(real_number)\n",
    "print(\"FP32 value:\", fp32_number.item(), fp32_number)\n",
    "\n",
    "# # 실수값으로 다시 변환\n",
    "# real_number_from_fp32 = float(fp32_number)\n",
    "# print(\"Real number from FP32:\", real_number_from_fp32)"
   ]
  },
  {
   "cell_type": "markdown",
   "id": "4435a3b8-fe78-4da4-a35f-14caf5631b39",
   "metadata": {
    "tags": []
   },
   "source": [
    "## FP16"
   ]
  },
  {
   "cell_type": "code",
   "execution_count": null,
   "id": "a2d45b00-05e3-4530-a2ca-034a1e7b84b5",
   "metadata": {},
   "outputs": [],
   "source": [
    "torch.finfo(torch.float16)"
   ]
  },
  {
   "cell_type": "code",
   "execution_count": null,
   "id": "7966bf4f-98dd-4826-904d-818fa9be7d57",
   "metadata": {},
   "outputs": [],
   "source": [
    "# FP16로 변환\n",
    "fp16_number = convert_to_fp16(real_number)\n",
    "print(\"FP16 value:\", fp16_number.item(), fp16_number)\n",
    "\n",
    "# # 실수값으로 다시 변환\n",
    "# real_number_from_fp16 = float(fp16_number)\n",
    "# print(\"Real number from FP16:\", real_number_from_fp16)"
   ]
  },
  {
   "cell_type": "markdown",
   "id": "fea898fa-9804-4cd8-9c98-60b2ab5cefa0",
   "metadata": {},
   "source": [
    "## INT8"
   ]
  },
  {
   "cell_type": "code",
   "execution_count": null,
   "id": "1bae2c2a-f5d6-48e1-b9bc-32abb641e95c",
   "metadata": {},
   "outputs": [],
   "source": [
    "torch.iinfo(torch.int8)"
   ]
  },
  {
   "cell_type": "code",
   "execution_count": null,
   "id": "a8dc9866-dd8f-4d3b-b79e-0fca4fc91667",
   "metadata": {},
   "outputs": [],
   "source": [
    "# INT8로 변환\n",
    "int8_number = convert_to_int8(real_number)\n",
    "print(\"INT8 value:\", int8_number.item(),int8_number)"
   ]
  },
  {
   "cell_type": "markdown",
   "id": "adfe1eb5-884f-4b5f-badc-6d464fecd1ca",
   "metadata": {},
   "source": [
    "## BFLOAT16"
   ]
  },
  {
   "cell_type": "code",
   "execution_count": null,
   "id": "75e0f878-15c2-42bd-bbd7-6e99cbc9da89",
   "metadata": {},
   "outputs": [],
   "source": [
    "torch.finfo(torch.bfloat16)"
   ]
  },
  {
   "cell_type": "code",
   "execution_count": null,
   "id": "c44c9546-dbe0-42b7-ae05-f4df375e1257",
   "metadata": {
    "tags": []
   },
   "outputs": [],
   "source": [
    "# BFLOAT16로 변환\n",
    "bfloat16_number = convert_to_bfloat16(real_number)\n",
    "print(\"BFLOAT16 value:\", bfloat16_number.item(), bfloat16_number)\n",
    "\n",
    "# # 실수값으로 다시 변환\n",
    "# real_number_from_bfloat16 = float(bfloat16_number)\n",
    "# print(\"Real number from BFLOAT16:\", real_number_from_bfloat16)"
   ]
  }
 ],
 "metadata": {
  "availableInstances": [
   {
    "_defaultOrder": 0,
    "_isFastLaunch": true,
    "category": "General purpose",
    "gpuNum": 0,
    "hideHardwareSpecs": false,
    "memoryGiB": 4,
    "name": "ml.t3.medium",
    "vcpuNum": 2
   },
   {
    "_defaultOrder": 1,
    "_isFastLaunch": false,
    "category": "General purpose",
    "gpuNum": 0,
    "hideHardwareSpecs": false,
    "memoryGiB": 8,
    "name": "ml.t3.large",
    "vcpuNum": 2
   },
   {
    "_defaultOrder": 2,
    "_isFastLaunch": false,
    "category": "General purpose",
    "gpuNum": 0,
    "hideHardwareSpecs": false,
    "memoryGiB": 16,
    "name": "ml.t3.xlarge",
    "vcpuNum": 4
   },
   {
    "_defaultOrder": 3,
    "_isFastLaunch": false,
    "category": "General purpose",
    "gpuNum": 0,
    "hideHardwareSpecs": false,
    "memoryGiB": 32,
    "name": "ml.t3.2xlarge",
    "vcpuNum": 8
   },
   {
    "_defaultOrder": 4,
    "_isFastLaunch": true,
    "category": "General purpose",
    "gpuNum": 0,
    "hideHardwareSpecs": false,
    "memoryGiB": 8,
    "name": "ml.m5.large",
    "vcpuNum": 2
   },
   {
    "_defaultOrder": 5,
    "_isFastLaunch": false,
    "category": "General purpose",
    "gpuNum": 0,
    "hideHardwareSpecs": false,
    "memoryGiB": 16,
    "name": "ml.m5.xlarge",
    "vcpuNum": 4
   },
   {
    "_defaultOrder": 6,
    "_isFastLaunch": false,
    "category": "General purpose",
    "gpuNum": 0,
    "hideHardwareSpecs": false,
    "memoryGiB": 32,
    "name": "ml.m5.2xlarge",
    "vcpuNum": 8
   },
   {
    "_defaultOrder": 7,
    "_isFastLaunch": false,
    "category": "General purpose",
    "gpuNum": 0,
    "hideHardwareSpecs": false,
    "memoryGiB": 64,
    "name": "ml.m5.4xlarge",
    "vcpuNum": 16
   },
   {
    "_defaultOrder": 8,
    "_isFastLaunch": false,
    "category": "General purpose",
    "gpuNum": 0,
    "hideHardwareSpecs": false,
    "memoryGiB": 128,
    "name": "ml.m5.8xlarge",
    "vcpuNum": 32
   },
   {
    "_defaultOrder": 9,
    "_isFastLaunch": false,
    "category": "General purpose",
    "gpuNum": 0,
    "hideHardwareSpecs": false,
    "memoryGiB": 192,
    "name": "ml.m5.12xlarge",
    "vcpuNum": 48
   },
   {
    "_defaultOrder": 10,
    "_isFastLaunch": false,
    "category": "General purpose",
    "gpuNum": 0,
    "hideHardwareSpecs": false,
    "memoryGiB": 256,
    "name": "ml.m5.16xlarge",
    "vcpuNum": 64
   },
   {
    "_defaultOrder": 11,
    "_isFastLaunch": false,
    "category": "General purpose",
    "gpuNum": 0,
    "hideHardwareSpecs": false,
    "memoryGiB": 384,
    "name": "ml.m5.24xlarge",
    "vcpuNum": 96
   },
   {
    "_defaultOrder": 12,
    "_isFastLaunch": false,
    "category": "General purpose",
    "gpuNum": 0,
    "hideHardwareSpecs": false,
    "memoryGiB": 8,
    "name": "ml.m5d.large",
    "vcpuNum": 2
   },
   {
    "_defaultOrder": 13,
    "_isFastLaunch": false,
    "category": "General purpose",
    "gpuNum": 0,
    "hideHardwareSpecs": false,
    "memoryGiB": 16,
    "name": "ml.m5d.xlarge",
    "vcpuNum": 4
   },
   {
    "_defaultOrder": 14,
    "_isFastLaunch": false,
    "category": "General purpose",
    "gpuNum": 0,
    "hideHardwareSpecs": false,
    "memoryGiB": 32,
    "name": "ml.m5d.2xlarge",
    "vcpuNum": 8
   },
   {
    "_defaultOrder": 15,
    "_isFastLaunch": false,
    "category": "General purpose",
    "gpuNum": 0,
    "hideHardwareSpecs": false,
    "memoryGiB": 64,
    "name": "ml.m5d.4xlarge",
    "vcpuNum": 16
   },
   {
    "_defaultOrder": 16,
    "_isFastLaunch": false,
    "category": "General purpose",
    "gpuNum": 0,
    "hideHardwareSpecs": false,
    "memoryGiB": 128,
    "name": "ml.m5d.8xlarge",
    "vcpuNum": 32
   },
   {
    "_defaultOrder": 17,
    "_isFastLaunch": false,
    "category": "General purpose",
    "gpuNum": 0,
    "hideHardwareSpecs": false,
    "memoryGiB": 192,
    "name": "ml.m5d.12xlarge",
    "vcpuNum": 48
   },
   {
    "_defaultOrder": 18,
    "_isFastLaunch": false,
    "category": "General purpose",
    "gpuNum": 0,
    "hideHardwareSpecs": false,
    "memoryGiB": 256,
    "name": "ml.m5d.16xlarge",
    "vcpuNum": 64
   },
   {
    "_defaultOrder": 19,
    "_isFastLaunch": false,
    "category": "General purpose",
    "gpuNum": 0,
    "hideHardwareSpecs": false,
    "memoryGiB": 384,
    "name": "ml.m5d.24xlarge",
    "vcpuNum": 96
   },
   {
    "_defaultOrder": 20,
    "_isFastLaunch": false,
    "category": "General purpose",
    "gpuNum": 0,
    "hideHardwareSpecs": true,
    "memoryGiB": 0,
    "name": "ml.geospatial.interactive",
    "supportedImageNames": [
     "sagemaker-geospatial-v1-0"
    ],
    "vcpuNum": 0
   },
   {
    "_defaultOrder": 21,
    "_isFastLaunch": true,
    "category": "Compute optimized",
    "gpuNum": 0,
    "hideHardwareSpecs": false,
    "memoryGiB": 4,
    "name": "ml.c5.large",
    "vcpuNum": 2
   },
   {
    "_defaultOrder": 22,
    "_isFastLaunch": false,
    "category": "Compute optimized",
    "gpuNum": 0,
    "hideHardwareSpecs": false,
    "memoryGiB": 8,
    "name": "ml.c5.xlarge",
    "vcpuNum": 4
   },
   {
    "_defaultOrder": 23,
    "_isFastLaunch": false,
    "category": "Compute optimized",
    "gpuNum": 0,
    "hideHardwareSpecs": false,
    "memoryGiB": 16,
    "name": "ml.c5.2xlarge",
    "vcpuNum": 8
   },
   {
    "_defaultOrder": 24,
    "_isFastLaunch": false,
    "category": "Compute optimized",
    "gpuNum": 0,
    "hideHardwareSpecs": false,
    "memoryGiB": 32,
    "name": "ml.c5.4xlarge",
    "vcpuNum": 16
   },
   {
    "_defaultOrder": 25,
    "_isFastLaunch": false,
    "category": "Compute optimized",
    "gpuNum": 0,
    "hideHardwareSpecs": false,
    "memoryGiB": 72,
    "name": "ml.c5.9xlarge",
    "vcpuNum": 36
   },
   {
    "_defaultOrder": 26,
    "_isFastLaunch": false,
    "category": "Compute optimized",
    "gpuNum": 0,
    "hideHardwareSpecs": false,
    "memoryGiB": 96,
    "name": "ml.c5.12xlarge",
    "vcpuNum": 48
   },
   {
    "_defaultOrder": 27,
    "_isFastLaunch": false,
    "category": "Compute optimized",
    "gpuNum": 0,
    "hideHardwareSpecs": false,
    "memoryGiB": 144,
    "name": "ml.c5.18xlarge",
    "vcpuNum": 72
   },
   {
    "_defaultOrder": 28,
    "_isFastLaunch": false,
    "category": "Compute optimized",
    "gpuNum": 0,
    "hideHardwareSpecs": false,
    "memoryGiB": 192,
    "name": "ml.c5.24xlarge",
    "vcpuNum": 96
   },
   {
    "_defaultOrder": 29,
    "_isFastLaunch": true,
    "category": "Accelerated computing",
    "gpuNum": 1,
    "hideHardwareSpecs": false,
    "memoryGiB": 16,
    "name": "ml.g4dn.xlarge",
    "vcpuNum": 4
   },
   {
    "_defaultOrder": 30,
    "_isFastLaunch": false,
    "category": "Accelerated computing",
    "gpuNum": 1,
    "hideHardwareSpecs": false,
    "memoryGiB": 32,
    "name": "ml.g4dn.2xlarge",
    "vcpuNum": 8
   },
   {
    "_defaultOrder": 31,
    "_isFastLaunch": false,
    "category": "Accelerated computing",
    "gpuNum": 1,
    "hideHardwareSpecs": false,
    "memoryGiB": 64,
    "name": "ml.g4dn.4xlarge",
    "vcpuNum": 16
   },
   {
    "_defaultOrder": 32,
    "_isFastLaunch": false,
    "category": "Accelerated computing",
    "gpuNum": 1,
    "hideHardwareSpecs": false,
    "memoryGiB": 128,
    "name": "ml.g4dn.8xlarge",
    "vcpuNum": 32
   },
   {
    "_defaultOrder": 33,
    "_isFastLaunch": false,
    "category": "Accelerated computing",
    "gpuNum": 4,
    "hideHardwareSpecs": false,
    "memoryGiB": 192,
    "name": "ml.g4dn.12xlarge",
    "vcpuNum": 48
   },
   {
    "_defaultOrder": 34,
    "_isFastLaunch": false,
    "category": "Accelerated computing",
    "gpuNum": 1,
    "hideHardwareSpecs": false,
    "memoryGiB": 256,
    "name": "ml.g4dn.16xlarge",
    "vcpuNum": 64
   },
   {
    "_defaultOrder": 35,
    "_isFastLaunch": false,
    "category": "Accelerated computing",
    "gpuNum": 1,
    "hideHardwareSpecs": false,
    "memoryGiB": 61,
    "name": "ml.p3.2xlarge",
    "vcpuNum": 8
   },
   {
    "_defaultOrder": 36,
    "_isFastLaunch": false,
    "category": "Accelerated computing",
    "gpuNum": 4,
    "hideHardwareSpecs": false,
    "memoryGiB": 244,
    "name": "ml.p3.8xlarge",
    "vcpuNum": 32
   },
   {
    "_defaultOrder": 37,
    "_isFastLaunch": false,
    "category": "Accelerated computing",
    "gpuNum": 8,
    "hideHardwareSpecs": false,
    "memoryGiB": 488,
    "name": "ml.p3.16xlarge",
    "vcpuNum": 64
   },
   {
    "_defaultOrder": 38,
    "_isFastLaunch": false,
    "category": "Accelerated computing",
    "gpuNum": 8,
    "hideHardwareSpecs": false,
    "memoryGiB": 768,
    "name": "ml.p3dn.24xlarge",
    "vcpuNum": 96
   },
   {
    "_defaultOrder": 39,
    "_isFastLaunch": false,
    "category": "Memory Optimized",
    "gpuNum": 0,
    "hideHardwareSpecs": false,
    "memoryGiB": 16,
    "name": "ml.r5.large",
    "vcpuNum": 2
   },
   {
    "_defaultOrder": 40,
    "_isFastLaunch": false,
    "category": "Memory Optimized",
    "gpuNum": 0,
    "hideHardwareSpecs": false,
    "memoryGiB": 32,
    "name": "ml.r5.xlarge",
    "vcpuNum": 4
   },
   {
    "_defaultOrder": 41,
    "_isFastLaunch": false,
    "category": "Memory Optimized",
    "gpuNum": 0,
    "hideHardwareSpecs": false,
    "memoryGiB": 64,
    "name": "ml.r5.2xlarge",
    "vcpuNum": 8
   },
   {
    "_defaultOrder": 42,
    "_isFastLaunch": false,
    "category": "Memory Optimized",
    "gpuNum": 0,
    "hideHardwareSpecs": false,
    "memoryGiB": 128,
    "name": "ml.r5.4xlarge",
    "vcpuNum": 16
   },
   {
    "_defaultOrder": 43,
    "_isFastLaunch": false,
    "category": "Memory Optimized",
    "gpuNum": 0,
    "hideHardwareSpecs": false,
    "memoryGiB": 256,
    "name": "ml.r5.8xlarge",
    "vcpuNum": 32
   },
   {
    "_defaultOrder": 44,
    "_isFastLaunch": false,
    "category": "Memory Optimized",
    "gpuNum": 0,
    "hideHardwareSpecs": false,
    "memoryGiB": 384,
    "name": "ml.r5.12xlarge",
    "vcpuNum": 48
   },
   {
    "_defaultOrder": 45,
    "_isFastLaunch": false,
    "category": "Memory Optimized",
    "gpuNum": 0,
    "hideHardwareSpecs": false,
    "memoryGiB": 512,
    "name": "ml.r5.16xlarge",
    "vcpuNum": 64
   },
   {
    "_defaultOrder": 46,
    "_isFastLaunch": false,
    "category": "Memory Optimized",
    "gpuNum": 0,
    "hideHardwareSpecs": false,
    "memoryGiB": 768,
    "name": "ml.r5.24xlarge",
    "vcpuNum": 96
   },
   {
    "_defaultOrder": 47,
    "_isFastLaunch": false,
    "category": "Accelerated computing",
    "gpuNum": 1,
    "hideHardwareSpecs": false,
    "memoryGiB": 16,
    "name": "ml.g5.xlarge",
    "vcpuNum": 4
   },
   {
    "_defaultOrder": 48,
    "_isFastLaunch": false,
    "category": "Accelerated computing",
    "gpuNum": 1,
    "hideHardwareSpecs": false,
    "memoryGiB": 32,
    "name": "ml.g5.2xlarge",
    "vcpuNum": 8
   },
   {
    "_defaultOrder": 49,
    "_isFastLaunch": false,
    "category": "Accelerated computing",
    "gpuNum": 1,
    "hideHardwareSpecs": false,
    "memoryGiB": 64,
    "name": "ml.g5.4xlarge",
    "vcpuNum": 16
   },
   {
    "_defaultOrder": 50,
    "_isFastLaunch": false,
    "category": "Accelerated computing",
    "gpuNum": 1,
    "hideHardwareSpecs": false,
    "memoryGiB": 128,
    "name": "ml.g5.8xlarge",
    "vcpuNum": 32
   },
   {
    "_defaultOrder": 51,
    "_isFastLaunch": false,
    "category": "Accelerated computing",
    "gpuNum": 1,
    "hideHardwareSpecs": false,
    "memoryGiB": 256,
    "name": "ml.g5.16xlarge",
    "vcpuNum": 64
   },
   {
    "_defaultOrder": 52,
    "_isFastLaunch": false,
    "category": "Accelerated computing",
    "gpuNum": 4,
    "hideHardwareSpecs": false,
    "memoryGiB": 192,
    "name": "ml.g5.12xlarge",
    "vcpuNum": 48
   },
   {
    "_defaultOrder": 53,
    "_isFastLaunch": false,
    "category": "Accelerated computing",
    "gpuNum": 4,
    "hideHardwareSpecs": false,
    "memoryGiB": 384,
    "name": "ml.g5.24xlarge",
    "vcpuNum": 96
   },
   {
    "_defaultOrder": 54,
    "_isFastLaunch": false,
    "category": "Accelerated computing",
    "gpuNum": 8,
    "hideHardwareSpecs": false,
    "memoryGiB": 768,
    "name": "ml.g5.48xlarge",
    "vcpuNum": 192
   },
   {
    "_defaultOrder": 55,
    "_isFastLaunch": false,
    "category": "Accelerated computing",
    "gpuNum": 8,
    "hideHardwareSpecs": false,
    "memoryGiB": 1152,
    "name": "ml.p4d.24xlarge",
    "vcpuNum": 96
   },
   {
    "_defaultOrder": 56,
    "_isFastLaunch": false,
    "category": "Accelerated computing",
    "gpuNum": 8,
    "hideHardwareSpecs": false,
    "memoryGiB": 1152,
    "name": "ml.p4de.24xlarge",
    "vcpuNum": 96
   },
   {
    "_defaultOrder": 57,
    "_isFastLaunch": false,
    "category": "Accelerated computing",
    "gpuNum": 0,
    "hideHardwareSpecs": false,
    "memoryGiB": 32,
    "name": "ml.trn1.2xlarge",
    "vcpuNum": 8
   },
   {
    "_defaultOrder": 58,
    "_isFastLaunch": false,
    "category": "Accelerated computing",
    "gpuNum": 0,
    "hideHardwareSpecs": false,
    "memoryGiB": 512,
    "name": "ml.trn1.32xlarge",
    "vcpuNum": 128
   },
   {
    "_defaultOrder": 59,
    "_isFastLaunch": false,
    "category": "Accelerated computing",
    "gpuNum": 0,
    "hideHardwareSpecs": false,
    "memoryGiB": 512,
    "name": "ml.trn1n.32xlarge",
    "vcpuNum": 128
   }
  ],
  "instance_type": "ml.t3.medium",
  "kernelspec": {
   "display_name": "Python 3 (ipykernel)",
   "language": "python",
   "name": "python3"
  },
  "language_info": {
   "codemirror_mode": {
    "name": "ipython",
    "version": 3
   },
   "file_extension": ".py",
   "mimetype": "text/x-python",
   "name": "python",
   "nbconvert_exporter": "python",
   "pygments_lexer": "ipython3",
   "version": "3.12.5"
  }
 },
 "nbformat": 4,
 "nbformat_minor": 5
}
